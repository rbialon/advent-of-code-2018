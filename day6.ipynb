{
 "cells": [
  {
   "cell_type": "markdown",
   "metadata": {},
   "source": [
    "## Day 6"
   ]
  },
  {
   "cell_type": "code",
   "execution_count": 1,
   "metadata": {},
   "outputs": [],
   "source": [
    "puzzle = \"\"\"45, 315\n",
    "258, 261\n",
    "336, 208\n",
    "160, 322\n",
    "347, 151\n",
    "321, 243\n",
    "232, 148\n",
    "48, 202\n",
    "78, 161\n",
    "307, 230\n",
    "170, 73\n",
    "43, 73\n",
    "74, 248\n",
    "177, 296\n",
    "330, 266\n",
    "314, 272\n",
    "175, 291\n",
    "75, 142\n",
    "278, 193\n",
    "279, 337\n",
    "228, 46\n",
    "211, 164\n",
    "131, 100\n",
    "110, 338\n",
    "336, 338\n",
    "231, 353\n",
    "184, 213\n",
    "300, 56\n",
    "99, 231\n",
    "119, 159\n",
    "180, 349\n",
    "130, 193\n",
    "308, 107\n",
    "140, 40\n",
    "222, 188\n",
    "356, 44\n",
    "73, 107\n",
    "304, 313\n",
    "199, 238\n",
    "344, 158\n",
    "49, 225\n",
    "64, 117\n",
    "145, 178\n",
    "188, 265\n",
    "270, 215\n",
    "48, 181\n",
    "213, 159\n",
    "174, 311\n",
    "114, 231\n",
    "325, 162\"\"\".splitlines()"
   ]
  },
  {
   "cell_type": "markdown",
   "metadata": {},
   "source": [
    "##### Part 1"
   ]
  },
  {
   "cell_type": "code",
   "execution_count": 2,
   "metadata": {},
   "outputs": [
    {
     "name": "stdout",
     "output_type": "stream",
     "text": [
      "CPU times: user 4.48 s, sys: 245 ms, total: 4.73 s\n",
      "Wall time: 4.79 s\n"
     ]
    }
   ],
   "source": [
    "%%time\n",
    "\n",
    "from collections import defaultdict\n",
    "from itertools import product\n",
    "\n",
    "\n",
    "def manhattan_distance(c1, c2):\n",
    "    return abs(c1[0] - c2[0]) + abs(c1[1] - c2[1])\n",
    "\n",
    "\n",
    "coordinates = [tuple(map(int, x.split(\", \"))) for x in puzzle]\n",
    "grid = dict()\n",
    "\n",
    "min_x = 1e10\n",
    "min_y = 1e10\n",
    "max_x = -1\n",
    "max_y = -1\n",
    "\n",
    "for x, y in coordinates:\n",
    "    min_x = min(min_x, x)\n",
    "    min_y = min(min_y, y)\n",
    "    max_x = max(max_x, x)\n",
    "    max_y = max(max_y, y)\n",
    "\n",
    "x_range = list(range(min_x, max_x + 1))\n",
    "y_range = list(range(min_y, max_y + 1))\n",
    "\n",
    "for coords in product(x_range, y_range):\n",
    "    distances_set = set()\n",
    "    for i, destination_coords in enumerate(coordinates):\n",
    "        distances_set.add((i, manhattan_distance(destination_coords, coords)))\n",
    "    \n",
    "    grid[coords] = distances_set"
   ]
  },
  {
   "cell_type": "code",
   "execution_count": 3,
   "metadata": {},
   "outputs": [
    {
     "name": "stdout",
     "output_type": "stream",
     "text": [
      "The largest area is 3894 for 10\n",
      "CPU times: user 2.39 s, sys: 3.24 ms, total: 2.39 s\n",
      "Wall time: 2.43 s\n"
     ]
    }
   ],
   "source": [
    "%%time\n",
    "\n",
    "def min_with_ties(iterable, key):\n",
    "    real_min = min(iterable, key=key)\n",
    "    return [x[0] for x in iterable if key(x) == key(real_min)]\n",
    "\n",
    "# Calculate border coordinate areas\n",
    "border_coords = set()\n",
    "\n",
    "for c in x_range:\n",
    "    border_coords |= set(min_with_ties(grid[(c, min_y)], key=lambda x: x[1]))\n",
    "    border_coords |= set(min_with_ties(grid[(c, max_y)], key=lambda x: x[1]))\n",
    "\n",
    "for c in y_range:\n",
    "    border_coords |= set(min_with_ties(grid[(min_x, c)], key=lambda x: x[1]))\n",
    "    border_coords |= set(min_with_ties(grid[(max_x, c)], key=lambda x: x[1]))\n",
    "    \n",
    "area_sizes = dict()\n",
    "\n",
    "for coord in grid:\n",
    "    closest_coord = min_with_ties(grid[coord], key=lambda x: x[1])\n",
    "    \n",
    "    if len(closest_coord) > 1:\n",
    "        continue\n",
    "    \n",
    "    closest_coord = closest_coord[0]\n",
    "    if closest_coord not in border_coords:\n",
    "        area_sizes[closest_coord] = area_sizes.get(closest_coord, 0) + 1\n",
    "\n",
    "\n",
    "largest_area_coord = max(area_sizes, key=area_sizes.get)\n",
    "print(\"The largest area is {} for {}\".format(area_sizes[largest_area_coord], largest_area_coord))"
   ]
  },
  {
   "cell_type": "code",
   "execution_count": 6,
   "metadata": {},
   "outputs": [
    {
     "name": "stdout",
     "output_type": "stream",
     "text": [
      "CPU times: user 2.11 s, sys: 0 ns, total: 2.11 s\n",
      "Wall time: 2.15 s\n"
     ]
    },
    {
     "data": {
      "image/png": "[encoded data removed]",
      "text/plain": [
       "<Figure size 864x1152 with 1 Axes>"
      ]
     },
     "metadata": {
      "needs_background": "light"
     },
     "output_type": "display_data"
    }
   ],
   "source": [
    "%%time\n",
    "\n",
    "import numpy as np\n",
    "import matplotlib\n",
    "import matplotlib.pyplot as plt\n",
    "\n",
    "matrix = np.zeros([max_x - min_x, max_y - min_y])\n",
    "for c in product(x_range, y_range):\n",
    "    mini = min_with_ties(grid[c], key=lambda x: x[1])\n",
    "    \n",
    "    if len(mini) > 1:\n",
    "        value = -1\n",
    "    else:\n",
    "        value = mini[0]\n",
    "\n",
    "    if value == 10:\n",
    "        value = 100\n",
    "        \n",
    "    matrix[c[0] - min_x - 1, c[1] - min_y - 1] = value\n",
    "    \n",
    "fig, ax = plt.subplots(figsize=(12,16))\n",
    "im = ax.imshow(matrix)"
   ]
  },
  {
   "cell_type": "markdown",
   "metadata": {},
   "source": [
    "##### Part 2"
   ]
  },
  {
   "cell_type": "code",
   "execution_count": 5,
   "metadata": {},
   "outputs": [
    {
     "name": "stdout",
     "output_type": "stream",
     "text": [
      "39398\n",
      "CPU times: user 2.21 s, sys: 32.1 ms, total: 2.25 s\n",
      "Wall time: 2.23 s\n"
     ]
    },
    {
     "data": {
      "image/png": "[encoded data removed]",
      "text/plain": [
       "<Figure size 432x288 with 1 Axes>"
      ]
     },
     "metadata": {
      "needs_background": "light"
     },
     "output_type": "display_data"
    }
   ],
   "source": [
    "%%time\n",
    "\n",
    "matrix = np.zeros([max_x - min_x, max_y - min_y])\n",
    "for c in product(x_range, y_range):\n",
    "    matrix[c[0] - min_x - 1, c[1] - min_y - 1] = sum(map(lambda x: manhattan_distance(x, c), coordinates))\n",
    "    \n",
    "print(np.sum(matrix < 10000))    \n",
    "\n",
    "fig, ax = plt.subplots()\n",
    "im = ax.imshow(matrix < 10000)"
   ]
  },
  {
   "cell_type": "code",
   "execution_count": null,
   "metadata": {},
   "outputs": [],
   "source": []
  }
 ],
 "metadata": {
  "kernelspec": {
   "display_name": "Python 3",
   "language": "python",
   "name": "python3"
  },
  "language_info": {
   "codemirror_mode": {
    "name": "ipython",
    "version": 3
   },
   "file_extension": ".py",
   "mimetype": "text/x-python",
   "name": "python",
   "nbconvert_exporter": "python",
   "pygments_lexer": "ipython3",
   "version": "3.7.1"
  }
 },
 "nbformat": 4,
 "nbformat_minor": 2
}
