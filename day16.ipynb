{
 "cells": [
  {
   "cell_type": "markdown",
   "metadata": {},
   "source": [
    "# Day 16"
   ]
  },
  {
   "cell_type": "code",
   "execution_count": 44,
   "metadata": {},
   "outputs": [],
   "source": [
    "with open(\"day16-input.txt\") as f:\n",
    "    puzzle = f.read()"
   ]
  },
  {
   "cell_type": "markdown",
   "metadata": {},
   "source": [
    "##### Part 1"
   ]
  },
  {
   "cell_type": "code",
   "execution_count": 12,
   "metadata": {},
   "outputs": [
    {
     "name": "stdout",
     "output_type": "stream",
     "text": [
      "Found solution 646\n"
     ]
    }
   ],
   "source": [
    "import re\n",
    "\n",
    "def addr(r, i):\n",
    "    result = [x for x in r]\n",
    "    result[i[3]] = r[i[1]] + r[i[2]]\n",
    "    return result\n",
    "    \n",
    "def addi(r, i):\n",
    "    result = [x for x in r]\n",
    "    result[i[3]] = r[i[1]] + i[2]\n",
    "    return result\n",
    "\n",
    "def mulr(r, i):\n",
    "    result = [x for x in r]\n",
    "    result[i[3]] = r[i[1]] * r[i[2]]\n",
    "    return result\n",
    "    \n",
    "def muli(r, i):\n",
    "    result = [x for x in r]\n",
    "    result[i[3]] = r[i[1]] * i[2]\n",
    "    return result\n",
    "\n",
    "def banr(r, i):\n",
    "    result = [x for x in r]\n",
    "    result[i[3]] = r[i[1]] & r[i[2]]\n",
    "    return result\n",
    "    \n",
    "def bani(r, i):\n",
    "    result = [x for x in r]\n",
    "    result[i[3]] = r[i[1]] & i[2]\n",
    "    return result\n",
    "\n",
    "def borr(r, i):\n",
    "    result = [x for x in r]\n",
    "    result[i[3]] = r[i[1]] | r[i[2]]\n",
    "    return result\n",
    "    \n",
    "def bori(r, i):\n",
    "    result = [x for x in r]\n",
    "    result[i[3]] = r[i[1]] | i[2]\n",
    "    return result\n",
    "\n",
    "def setr(r, i):\n",
    "    result = [x for x in r]\n",
    "    result[i[3]] = r[i[1]]\n",
    "    return result\n",
    "    \n",
    "def seti(r, i):\n",
    "    result = [x for x in r]\n",
    "    result[i[3]] = i[1]\n",
    "    return result\n",
    "\n",
    "def gtir(r, i):\n",
    "    result = [x for x in r]\n",
    "    result[i[3]] = int(i[1] > r[i[2]])\n",
    "    return result\n",
    "    \n",
    "def gtri(r, i):\n",
    "    result = [x for x in r]\n",
    "    result[i[3]] = int(r[i[1]] > i[2])\n",
    "    return result\n",
    "\n",
    "def gtrr(r, i):\n",
    "    result = [x for x in r]\n",
    "    result[i[3]] = int(r[i[1]] > r[i[2]])\n",
    "    return result\n",
    "    \n",
    "def eqir(r, i):\n",
    "    result = [x for x in r]\n",
    "    result[i[3]] = int(i[1] == r[i[2]])\n",
    "    return result\n",
    "\n",
    "def eqri(r, i):\n",
    "    result = [x for x in r]\n",
    "    result[i[3]] = int(r[i[1]] == i[2])\n",
    "    return result\n",
    "    \n",
    "def eqrr(r, i):\n",
    "    result = [x for x in r]\n",
    "    result[i[3]] = int(r[i[1]] == r[i[2]])\n",
    "    return result\n",
    "\n",
    "instructions = [\n",
    "    addr,\n",
    "    addi,\n",
    "    mulr,\n",
    "    muli,\n",
    "    banr,\n",
    "    bani,\n",
    "    borr,\n",
    "    bori,\n",
    "    setr,\n",
    "    seti,\n",
    "    gtir,\n",
    "    gtri,\n",
    "    gtrr,\n",
    "    eqir,\n",
    "    eqri,\n",
    "    eqrr\n",
    "]\n",
    "\n",
    "def split_monitor_entry(entry):\n",
    "    before, instruction, after = entry.splitlines()\n",
    "    \n",
    "    before = re.search(\"Before: \\[(\\d), (\\d), (\\d), (\\d)]\", before).groups()\n",
    "    instruction = re.search(\"(\\d+) (\\d+) (\\d+) (\\d+)\", instruction).groups()\n",
    "    after = re.search(\"After:  \\[(\\d), (\\d), (\\d), (\\d)]\", after).groups()\n",
    "    \n",
    "    before = list(map(int, before))\n",
    "    instruction = list(map(int, instruction))\n",
    "    after = list(map(int, after))\n",
    "    \n",
    "    return before, instruction, after\n",
    "\n",
    "def opcode_fit(operation, entry):\n",
    "    before, instruction, after = split_monitor_entry(entry)\n",
    "    return operation(before, instruction) == after\n",
    "\n",
    "\n",
    "samples_behaving_like_three_or_more_opcodes = 0\n",
    "\n",
    "for entry in puzzle.split(\"\\n\\n\"):\n",
    "    if not entry.startswith(\"Before\"):\n",
    "        break\n",
    "        \n",
    "    if sum(map(lambda x: opcode_fit(x, entry), instructions)) >= 3:\n",
    "        samples_behaving_like_three_or_more_opcodes += 1\n",
    "        \n",
    "print(\"Found solution {}\".format(samples_behaving_like_three_or_more_opcodes))\n",
    "    "
   ]
  },
  {
   "cell_type": "markdown",
   "metadata": {},
   "source": [
    "##### Part 2"
   ]
  },
  {
   "cell_type": "code",
   "execution_count": 51,
   "metadata": {
    "scrolled": true
   },
   "outputs": [
    {
     "name": "stdout",
     "output_type": "stream",
     "text": [
      "Found solution 681\n"
     ]
    }
   ],
   "source": [
    "from collections import defaultdict\n",
    "operations = defaultdict(set)\n",
    "\n",
    "def get_opcode(entry):\n",
    "    _, instruction, _ = split_monitor_entry(entry)\n",
    "    return instruction[0]\n",
    "\n",
    "for entry in puzzle.split(\"\\n\\n\"):\n",
    "    if not entry.startswith(\"Before\"):\n",
    "        break\n",
    "        \n",
    "    fitting_operations = list(map(lambda x: opcode_fit(x, entry), instructions))\n",
    "    \n",
    "    indices = [i for i, x in enumerate(fitting_operations) if x]\n",
    "    opcode = get_opcode(entry)\n",
    "    operations[opcode] |= set(indices)\n",
    "\n",
    "for _ in range(16):\n",
    "    already_found = set()\n",
    "    \n",
    "    for op in operations:\n",
    "        if len(operations[op]) == 1:\n",
    "            already_found |= operations[op]\n",
    "            \n",
    "    for op in operations:\n",
    "        if len(operations[op]) > 1:\n",
    "            operations[op] -= already_found\n",
    "\n",
    "registers = [0, 0, 0, 0]\n",
    "entry = puzzle.split(\"\\n\\n\\n\\n\")[1]\n",
    "for line in entry.splitlines():\n",
    "    line = list(map(int, line.split()))\n",
    "    \n",
    "    operation = instructions[list(operations[line[0]])[0]]\n",
    "    registers = operation(registers, line)\n",
    "    \n",
    "print(\"Found solution {}\".format(registers[0]))"
   ]
  }
 ],
 "metadata": {
  "kernelspec": {
   "display_name": "Python 3",
   "language": "python",
   "name": "python3"
  },
  "language_info": {
   "codemirror_mode": {
    "name": "ipython",
    "version": 3
   },
   "file_extension": ".py",
   "mimetype": "text/x-python",
   "name": "python",
   "nbconvert_exporter": "python",
   "pygments_lexer": "ipython3",
   "version": "3.7.1"
  }
 },
 "nbformat": 4,
 "nbformat_minor": 2
}
