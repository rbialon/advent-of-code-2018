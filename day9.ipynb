{
 "cells": [
  {
   "cell_type": "markdown",
   "metadata": {},
   "source": [
    "## Day 9"
   ]
  },
  {
   "cell_type": "code",
   "execution_count": 1,
   "metadata": {},
   "outputs": [],
   "source": [
    "puzzle = \"418 players; last marble is worth 71339 points\".split()\n",
    "player_count = int(puzzle[0])\n",
    "marble_count = int(puzzle[6])"
   ]
  },
  {
   "cell_type": "markdown",
   "metadata": {},
   "source": [
    "##### Part 1"
   ]
  },
  {
   "cell_type": "code",
   "execution_count": 2,
   "metadata": {},
   "outputs": [
    {
     "name": "stdout",
     "output_type": "stream",
     "text": [
      "The solution is 412127\n"
     ]
    }
   ],
   "source": [
    "def move_index(modifier):\n",
    "    return (current_index + modifier) % len(circle)\n",
    "\n",
    "circle = [0]\n",
    "current_index = 0\n",
    "\n",
    "players = []\n",
    "for _ in range(player_count):\n",
    "    players.append([])\n",
    "current_player = 0\n",
    "\n",
    "\n",
    "for marble in range(1, marble_count + 1):\n",
    "    if marble % 23 == 0:\n",
    "        players[current_player].append(marble)\n",
    "        current_index = move_index(-7)\n",
    "        players[current_player].append(circle[current_index])\n",
    "        del circle[current_index]\n",
    "    else:\n",
    "        current_index = move_index(1)\n",
    "        circle.insert(current_index + 1, marble)\n",
    "        current_index = move_index(1)\n",
    "        \n",
    "    current_player = (current_player + 1) % player_count\n",
    "\n",
    "solution = max(map(sum, players))\n",
    "print(\"The solution is {}\".format(solution))"
   ]
  },
  {
   "cell_type": "markdown",
   "metadata": {},
   "source": [
    "##### Part 2"
   ]
  },
  {
   "cell_type": "code",
   "execution_count": 3,
   "metadata": {},
   "outputs": [
    {
     "name": "stdout",
     "output_type": "stream",
     "text": [
      "The solution is 3482394794\n"
     ]
    }
   ],
   "source": [
    "from blist import blist # blist has O(n log(n)) insert and del, see https://www.python.org/dev/peps/pep-3128/\n",
    "\n",
    "circle = blist()\n",
    "circle.append(0)\n",
    "current_index = 0\n",
    "\n",
    "players = []\n",
    "for _ in range(player_count):\n",
    "    players.append([])\n",
    "current_player = 0\n",
    "\n",
    "\n",
    "for marble in range(1, (marble_count * 100) + 1):\n",
    "    if marble % 23 == 0:\n",
    "        players[current_player].append(marble)\n",
    "        current_index = move_index(-7)\n",
    "        players[current_player].append(circle[current_index])\n",
    "        del circle[current_index]\n",
    "    else:\n",
    "        current_index = move_index(1)\n",
    "        circle.insert(current_index + 1, marble)\n",
    "        current_index = move_index(1)\n",
    "        \n",
    "    current_player = (current_player + 1) % player_count\n",
    "\n",
    "solution = max(map(sum, players))\n",
    "print(\"The solution is {}\".format(solution))"
   ]
  }
 ],
 "metadata": {
  "kernelspec": {
   "display_name": "Python 3",
   "language": "python",
   "name": "python3"
  },
  "language_info": {
   "codemirror_mode": {
    "name": "ipython",
    "version": 3
   },
   "file_extension": ".py",
   "mimetype": "text/x-python",
   "name": "python",
   "nbconvert_exporter": "python",
   "pygments_lexer": "ipython3",
   "version": "3.7.1"
  }
 },
 "nbformat": 4,
 "nbformat_minor": 2
}
