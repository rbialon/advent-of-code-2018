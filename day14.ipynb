{
 "cells": [
  {
   "cell_type": "markdown",
   "metadata": {},
   "source": [
    "## Day 14"
   ]
  },
  {
   "cell_type": "code",
   "execution_count": 1,
   "metadata": {},
   "outputs": [],
   "source": [
    "puzzle = 260321"
   ]
  },
  {
   "cell_type": "markdown",
   "metadata": {},
   "source": [
    "##### Part 1"
   ]
  },
  {
   "cell_type": "code",
   "execution_count": 2,
   "metadata": {},
   "outputs": [
    {
     "name": "stdout",
     "output_type": "stream",
     "text": [
      "Found solution 9276422810\n",
      "CPU times: user 529 ms, sys: 6.2 ms, total: 535 ms\n",
      "Wall time: 542 ms\n"
     ]
    }
   ],
   "source": [
    "%%time\n",
    "\n",
    "recipes = [3, 7]\n",
    "elves = [0, 1]\n",
    "\n",
    "def create_recipe(elves):\n",
    "    return list(map(int, str(sum([recipes[x] for x in elves]))))\n",
    "\n",
    "while len(recipes) < puzzle + 10:\n",
    "    recipes += create_recipe(elves)\n",
    "\n",
    "    for i, elf in enumerate(elves):\n",
    "        elves[i] = (elf + 1 + recipes[elf]) % len(recipes)\n",
    "        \n",
    "print(\"Found solution {}\".format(\"\".join(map(str, recipes[puzzle:puzzle+10]))))"
   ]
  },
  {
   "cell_type": "markdown",
   "metadata": {},
   "source": [
    "##### Part 2"
   ]
  },
  {
   "cell_type": "code",
   "execution_count": 3,
   "metadata": {},
   "outputs": [
    {
     "name": "stdout",
     "output_type": "stream",
     "text": [
      "Found solution 20319117\n",
      "CPU times: user 1min 3s, sys: 192 ms, total: 1min 4s\n",
      "Wall time: 1min 4s\n"
     ]
    }
   ],
   "source": [
    "%%time\n",
    "\n",
    "recipes = [3, 7]\n",
    "elves = [0, 1]\n",
    "puzzle_string = str(puzzle)\n",
    "\n",
    "while not puzzle_string in \"\".join(map(str, recipes[-10:])):\n",
    "    recipes += create_recipe(elves)\n",
    "\n",
    "    for i, elf in enumerate(elves):\n",
    "        elves[i] = (elf + 1 + recipes[elf]) % len(recipes)\n",
    "\n",
    "last_part = \"\".join(map(str, recipes[-10:]))\n",
    "solution = len(recipes[:-10]) + last_part.index(puzzle_string)\n",
    "print(\"Found solution {}\".format(solution))"
   ]
  }
 ],
 "metadata": {
  "kernelspec": {
   "display_name": "Python 3",
   "language": "python",
   "name": "python3"
  },
  "language_info": {
   "codemirror_mode": {
    "name": "ipython",
    "version": 3
   },
   "file_extension": ".py",
   "mimetype": "text/x-python",
   "name": "python",
   "nbconvert_exporter": "python",
   "pygments_lexer": "ipython3",
   "version": "3.7.1"
  }
 },
 "nbformat": 4,
 "nbformat_minor": 2
}
