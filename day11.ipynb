{
 "cells": [
  {
   "cell_type": "markdown",
   "metadata": {},
   "source": [
    "## Day 11"
   ]
  },
  {
   "cell_type": "markdown",
   "metadata": {},
   "source": [
    "##### Part 1"
   ]
  },
  {
   "cell_type": "code",
   "execution_count": 1,
   "metadata": {},
   "outputs": [
    {
     "name": "stdout",
     "output_type": "stream",
     "text": [
      "Found square at (20, 62) with power sum 30.0\n",
      "CPU times: user 561 ms, sys: 208 ms, total: 769 ms\n",
      "Wall time: 547 ms\n"
     ]
    }
   ],
   "source": [
    "%%time\n",
    "\n",
    "from itertools import product\n",
    "import numpy as np\n",
    "\n",
    "grid = np.zeros((300,300))\n",
    "grid_serial_number = 7139\n",
    "\n",
    "for x, y in product(range(300), repeat=2):\n",
    "    rack_id = x + 10\n",
    "    power_level = rack_id * y\n",
    "    power_level += grid_serial_number\n",
    "    power_level *= rack_id\n",
    "    power_level = int(str(power_level)[-3:-2])\n",
    "    power_level -= 5\n",
    "    \n",
    "    grid[x, y] = power_level\n",
    "    \n",
    "square_max = ((0, 0), -100)\n",
    "    \n",
    "for x, y in product(range(300 - 3), repeat=2):\n",
    "    power_sum = np.sum(grid[x:x+3, y:y+3])\n",
    "        \n",
    "    if power_sum > square_max[1]:\n",
    "        square_max = ((x, y), power_sum)\n",
    "        \n",
    "print(\"Found square at {} with power sum {}\".format(*square_max))"
   ]
  },
  {
   "cell_type": "markdown",
   "metadata": {},
   "source": [
    "##### Part 2"
   ]
  },
  {
   "cell_type": "code",
   "execution_count": 4,
   "metadata": {},
   "outputs": [
    {
     "name": "stdout",
     "output_type": "stream",
     "text": [
      "Found square at (229, 61, 16) with power sum 151.0\n",
      "CPU times: user 2min 2s, sys: 79.5 ms, total: 2min 2s\n",
      "Wall time: 2min 3s\n"
     ]
    }
   ],
   "source": [
    "%%time \n",
    "\n",
    "square_max = ((0, 0, 0), -100)\n",
    "\n",
    "for x, y in product(range(300), repeat=2):\n",
    "    for square_size in range(1, min(301 - x, 301 - y)):\n",
    "        power_sum = np.sum(grid[x:x+square_size, y:y+square_size])\n",
    "\n",
    "        if power_sum > square_max[1]:\n",
    "            square_max = ((x, y, square_size), power_sum)\n",
    "        \n",
    "print(\"Found square at {} with power sum {}\".format(*square_max))"
   ]
  }
 ],
 "metadata": {
  "kernelspec": {
   "display_name": "Python 3",
   "language": "python",
   "name": "python3"
  },
  "language_info": {
   "codemirror_mode": {
    "name": "ipython",
    "version": 3
   },
   "file_extension": ".py",
   "mimetype": "text/x-python",
   "name": "python",
   "nbconvert_exporter": "python",
   "pygments_lexer": "ipython3",
   "version": "3.7.1"
  }
 },
 "nbformat": 4,
 "nbformat_minor": 2
}
