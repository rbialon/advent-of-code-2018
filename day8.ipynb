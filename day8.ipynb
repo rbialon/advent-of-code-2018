{
 "cells": [
  {
   "cell_type": "markdown",
   "metadata": {},
   "source": [
    "## Day 8"
   ]
  },
  {
   "cell_type": "code",
   "execution_count": 4,
   "metadata": {},
   "outputs": [],
   "source": [
    "with open(\"day8-input.txt\") as f:\n",
    "    puzzle = f.read()"
   ]
  },
  {
   "cell_type": "markdown",
   "metadata": {},
   "source": [
    "##### Part 1"
   ]
  },
  {
   "cell_type": "code",
   "execution_count": 7,
   "metadata": {},
   "outputs": [],
   "source": [
    "nodes = list(map(int, puzzle.split()))\n",
    "\n",
    "def get_tree():\n",
    "    child_nodes = []\n",
    "    child_count = nodes.pop(0)\n",
    "    metadata_count = nodes.pop(0)\n",
    "    \n",
    "    for i in range(child_count):\n",
    "        child_nodes.append(get_tree())\n",
    "    \n",
    "    metadata_nodes = nodes[:metadata_count]\n",
    "    del nodes[:metadata_count]\n",
    "    \n",
    "    return {\"child_nodes\": child_nodes, \"metadata_nodes\": metadata_nodes}\n",
    "\n",
    "tree = get_tree()"
   ]
  },
  {
   "cell_type": "code",
   "execution_count": 8,
   "metadata": {},
   "outputs": [
    {
     "name": "stdout",
     "output_type": "stream",
     "text": [
      "The solution is 45618\n"
     ]
    }
   ],
   "source": [
    "def get_metadata_sum(tree):\n",
    "    metadata_sum = sum(tree[\"metadata_nodes\"])\n",
    "    \n",
    "    for child in tree[\"child_nodes\"]:\n",
    "        metadata_sum += get_metadata_sum(child)\n",
    "    \n",
    "    return metadata_sum\n",
    "\n",
    "print(\"The solution is {}\".format(get_metadata_sum(tree)))"
   ]
  },
  {
   "cell_type": "markdown",
   "metadata": {},
   "source": [
    "##### Part 2"
   ]
  },
  {
   "cell_type": "code",
   "execution_count": 10,
   "metadata": {},
   "outputs": [
    {
     "name": "stdout",
     "output_type": "stream",
     "text": [
      "The solution is 22306\n"
     ]
    }
   ],
   "source": [
    "def get_root_value(tree):\n",
    "    if tree[\"child_nodes\"]:\n",
    "        value = 0\n",
    "        \n",
    "        child_count = len(tree[\"child_nodes\"])\n",
    "        for i in tree[\"metadata_nodes\"]:\n",
    "            if 0 < i <= child_count:\n",
    "                value += get_root_value(tree[\"child_nodes\"][i - 1])\n",
    "        \n",
    "        return value\n",
    "    else:\n",
    "        return sum(tree[\"metadata_nodes\"])\n",
    "    \n",
    "print(\"The solution is {}\".format(get_root_value(tree)))"
   ]
  }
 ],
 "metadata": {
  "kernelspec": {
   "display_name": "Python 3",
   "language": "python",
   "name": "python3"
  },
  "language_info": {
   "codemirror_mode": {
    "name": "ipython",
    "version": 3
   },
   "file_extension": ".py",
   "mimetype": "text/x-python",
   "name": "python",
   "nbconvert_exporter": "python",
   "pygments_lexer": "ipython3",
   "version": "3.7.1"
  }
 },
 "nbformat": 4,
 "nbformat_minor": 2
}
