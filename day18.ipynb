{
 "cells": [
  {
   "cell_type": "markdown",
   "metadata": {},
   "source": [
    "## Day 18"
   ]
  },
  {
   "cell_type": "code",
   "execution_count": 1,
   "metadata": {},
   "outputs": [],
   "source": [
    "with open(\"day18-input.txt\") as f:\n",
    "    puzzle = f.read().splitlines()"
   ]
  },
  {
   "cell_type": "markdown",
   "metadata": {},
   "source": [
    "##### Part 1"
   ]
  },
  {
   "cell_type": "code",
   "execution_count": 2,
   "metadata": {},
   "outputs": [
    {
     "name": "stdout",
     "output_type": "stream",
     "text": [
      "Found solution 355918\n",
      "CPU times: user 100 ms, sys: 0 ns, total: 100 ms\n",
      "Wall time: 101 ms\n"
     ]
    }
   ],
   "source": [
    "%%time\n",
    "\n",
    "from itertools import product\n",
    "\n",
    "area = dict()\n",
    "\n",
    "open_ground = \".\"\n",
    "tree = \"|\"\n",
    "lumberyard = \"#\"\n",
    "\n",
    "len_x = len(puzzle[0])\n",
    "len_y = len(puzzle)\n",
    "\n",
    "for y, line in enumerate(puzzle):\n",
    "    for x, char in enumerate(line):\n",
    "        area[(x, y)] = char\n",
    "\n",
    "\n",
    "def get_adjacent(area, x, y):\n",
    "    adjacents = []\n",
    "    \n",
    "    for px, py in [(-1, -1), (-1, 0), (-1, 1), (0, -1), (0, 1), (1, -1), (1, 0), (1, 1)]:\n",
    "        c = (x + px, y + py)\n",
    "        if c in area:\n",
    "            adjacents.append(area[c])\n",
    "            \n",
    "    return adjacents\n",
    "\n",
    "def change_acre(area, x, y):\n",
    "    adjacents = get_adjacent(area, x, y)\n",
    "    acre = area[(x, y)]\n",
    "    \n",
    "    if acre == open_ground and adjacents.count(tree) > 2:\n",
    "        acre = tree\n",
    "    elif acre == tree and adjacents.count(lumberyard) > 2:\n",
    "        acre = lumberyard\n",
    "    elif acre == lumberyard and (not adjacents.count(lumberyard) or not adjacents.count(tree)):\n",
    "        acre = open_ground\n",
    "    \n",
    "    return acre\n",
    "\n",
    "def change_area(area):\n",
    "    return {(x, y): change_acre(area, x, y) for x, y in area}\n",
    "\n",
    "def resource_value(area):\n",
    "    acres = list(area.values())\n",
    "    return acres.count(tree) * acres.count(lumberyard)\n",
    "\n",
    "\n",
    "for minute in range(10):\n",
    "    area = change_area(area)\n",
    "\n",
    "print(\"Found solution {}\".format(resource_value(area)))"
   ]
  },
  {
   "cell_type": "markdown",
   "metadata": {},
   "source": [
    "##### Part 2"
   ]
  },
  {
   "cell_type": "code",
   "execution_count": 3,
   "metadata": {},
   "outputs": [
    {
     "name": "stdout",
     "output_type": "stream",
     "text": [
      "Already seen area beginning from minute 507 after 28 minutes in minute 535\n",
      "Already calculated 535 minutes. 999999465 minutes remain, 17 of those after cycles\n",
      "Calculating areas for remaining 17 minutes\n",
      "Found solution 202806\n",
      "CPU times: user 3.92 s, sys: 15.9 ms, total: 3.94 s\n",
      "Wall time: 4 s\n"
     ]
    }
   ],
   "source": [
    "%%time\n",
    "\n",
    "for y, line in enumerate(puzzle):\n",
    "    for x, char in enumerate(line):\n",
    "        area[(x, y)] = char\n",
    "\n",
    "seen_areas = dict()\n",
    "\n",
    "for minute in range(1, 1000000000):\n",
    "    area = change_area(area)\n",
    "    \n",
    "    if tuple(area.values()) in seen_areas:\n",
    "        first_occurence = seen_areas[tuple(area.values())]\n",
    "        cycle_minutes = minute - first_occurence\n",
    "        print(\"Already seen area beginning from minute {} after {} minutes in minute {}\".format(first_occurence, cycle_minutes, minute))\n",
    "        break\n",
    "        \n",
    "    seen_areas[tuple(area.values())] = minute\n",
    "    \n",
    "remaining_minutes = (1000000000 - minute) % cycle_minutes\n",
    "print(\"Already calculated {} minutes. {} minutes remain, {} of those after cycles\".format(minute, (1000000000 - minute), remaining_minutes))\n",
    "print(\"Calculating areas for remaining {} minutes\".format(remaining_minutes))\n",
    "for minute in range(remaining_minutes):\n",
    "    area = change_area(area)\n",
    "\n",
    "print(\"Found solution {}\".format(resource_value(area)))"
   ]
  }
 ],
 "metadata": {
  "kernelspec": {
   "display_name": "Python 3",
   "language": "python",
   "name": "python3"
  },
  "language_info": {
   "codemirror_mode": {
    "name": "ipython",
    "version": 3
   },
   "file_extension": ".py",
   "mimetype": "text/x-python",
   "name": "python",
   "nbconvert_exporter": "python",
   "pygments_lexer": "ipython3",
   "version": "3.7.1"
  }
 },
 "nbformat": 4,
 "nbformat_minor": 2
}
