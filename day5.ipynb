{
 "cells": [
  {
   "cell_type": "markdown",
   "metadata": {},
   "source": [
    "## Day 5"
   ]
  },
  {
   "cell_type": "code",
   "execution_count": 59,
   "metadata": {},
   "outputs": [],
   "source": [
    "with open(\"day5-input.txt\") as f:\n",
    "    puzzle = f.read().strip()"
   ]
  },
  {
   "cell_type": "markdown",
   "metadata": {},
   "source": [
    "##### Part 1"
   ]
  },
  {
   "cell_type": "code",
   "execution_count": 60,
   "metadata": {},
   "outputs": [
    {
     "name": "stdout",
     "output_type": "stream",
     "text": [
      "Found solution with length 9116\n"
     ]
    }
   ],
   "source": [
    "def trigger_reactions(string):\n",
    "    stack = []\n",
    "    \n",
    "    for c in string:\n",
    "        if stack and abs(ord(c) - ord(stack[-1])) == 32:\n",
    "            stack.pop()\n",
    "        else:\n",
    "            stack.append(c)\n",
    "            \n",
    "    return \"\".join(stack)\n",
    "\n",
    "polymer = puzzle\n",
    "previous_polymer = \"\"\n",
    "\n",
    "while polymer != previous_polymer:\n",
    "    previous_polymer = polymer\n",
    "    polymer = trigger_reactions(polymer)\n",
    "    \n",
    "print(\"Found solution with length {}\".format(len(polymer)))"
   ]
  },
  {
   "cell_type": "markdown",
   "metadata": {},
   "source": [
    "##### Part 2"
   ]
  },
  {
   "cell_type": "code",
   "execution_count": 62,
   "metadata": {},
   "outputs": [
    {
     "name": "stdout",
     "output_type": "stream",
     "text": [
      "6890\n"
     ]
    }
   ],
   "source": [
    "shortest_polymer = 999999999\n",
    "\n",
    "for c in \"abcdefghijklmnopqrstuvwxyz\":\n",
    "    fixed_polymer = trigger_reactions(polymer.replace(c, \"\").replace(c.upper(), \"\"))\n",
    "    shortest_polymer = min(shortest_polymer, len(fixed_polymer))\n",
    "    \n",
    "print(shortest_polymer)"
   ]
  }
 ],
 "metadata": {
  "kernelspec": {
   "display_name": "Python 3",
   "language": "python",
   "name": "python3"
  },
  "language_info": {
   "codemirror_mode": {
    "name": "ipython",
    "version": 3
   },
   "file_extension": ".py",
   "mimetype": "text/x-python",
   "name": "python",
   "nbconvert_exporter": "python",
   "pygments_lexer": "ipython3",
   "version": "3.7.1"
  }
 },
 "nbformat": 4,
 "nbformat_minor": 2
}
