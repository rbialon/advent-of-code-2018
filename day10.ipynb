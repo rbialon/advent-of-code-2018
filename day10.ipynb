{
 "cells": [
  {
   "cell_type": "markdown",
   "metadata": {},
   "source": [
    "## Day 10"
   ]
  },
  {
   "cell_type": "code",
   "execution_count": 1,
   "metadata": {},
   "outputs": [],
   "source": [
    "with open(\"day10-input.txt\") as f:\n",
    "    puzzle = f.read().splitlines()"
   ]
  },
  {
   "cell_type": "markdown",
   "metadata": {},
   "source": [
    "##### Part 1"
   ]
  },
  {
   "cell_type": "code",
   "execution_count": 3,
   "metadata": {},
   "outputs": [
    {
     "name": "stdout",
     "output_type": "stream",
     "text": [
      "Apply how many steps (Enter a letter to exit)?10595\n"
     ]
    },
    {
     "data": {
      "image/png": "[encoded data removed]",
      "text/plain": [
       "<Figure size 432x288 with 1 Axes>"
      ]
     },
     "metadata": {
      "needs_background": "light"
     },
     "output_type": "display_data"
    },
    {
     "name": "stdout",
     "output_type": "stream",
     "text": [
      "Current step: 10595\n",
      "Apply how many steps (Enter a letter to exit)?q\n"
     ]
    }
   ],
   "source": [
    "import re\n",
    "import matplotlib.pyplot as plt\n",
    "\n",
    "points = []\n",
    "for line in puzzle:\n",
    "    _, pos_x, pos_y, _, velo_x, velo_y,_ = re.split(\"<|>|,\", line)\n",
    "    \n",
    "    points.append([(int(pos_x), int(pos_y)), (int(velo_x), int(velo_y))])\n",
    "\n",
    "def move_steps(steps):\n",
    "    for p in points:\n",
    "        p[0] = [p[0][0] + (steps * p[1][0]), p[0][1] + (steps * p[1][1])]\n",
    "    \n",
    "def plot_points():\n",
    "    plt.scatter(*zip(*list(x[0] for x in points)))\n",
    "    plt.gca().invert_yaxis()\n",
    "    plt.show()\n",
    "    \n",
    "answer = \"\"\n",
    "steps = 0\n",
    "while not answer.isalpha():\n",
    "    answer = input(\"Apply how many steps (Enter a letter to exit)?\") or answer\n",
    "    try:\n",
    "        steps += int(answer)\n",
    "        move_steps(int(answer))\n",
    "        plot_points()\n",
    "        print(\"Current step: {}\".format(steps))\n",
    "    except:\n",
    "        pass\n",
    "    "
   ]
  },
  {
   "cell_type": "markdown",
   "metadata": {},
   "source": [
    "##### Part 2"
   ]
  },
  {
   "cell_type": "code",
   "execution_count": 4,
   "metadata": {},
   "outputs": [],
   "source": [
    "# See above"
   ]
  }
 ],
 "metadata": {
  "kernelspec": {
   "display_name": "Python 3",
   "language": "python",
   "name": "python3"
  },
  "language_info": {
   "codemirror_mode": {
    "name": "ipython",
    "version": 3
   },
   "file_extension": ".py",
   "mimetype": "text/x-python",
   "name": "python",
   "nbconvert_exporter": "python",
   "pygments_lexer": "ipython3",
   "version": "3.7.1"
  }
 },
 "nbformat": 4,
 "nbformat_minor": 2
}
